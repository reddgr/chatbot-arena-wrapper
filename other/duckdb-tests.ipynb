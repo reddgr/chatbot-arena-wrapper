{
 "cells": [
  {
   "cell_type": "code",
<<<<<<< HEAD
   "execution_count": 11,
=======
   "execution_count": 3,
>>>>>>> 7a236bfc4650cfefd979dc3934c5038dfe992c18
   "metadata": {},
   "outputs": [
    {
     "name": "stdout",
     "output_type": "stream",
     "text": [
      "Python version: 3.8.10 (default, Feb  4 2025, 15:02:54) \n",
      "[GCC 9.4.0]\n",
      "PyTorch version: 2.2.2+cu121\n",
      "Transformers version: 4.44.2\n",
      "No CUDA device available\n",
      "Retrieved HuggingFace token(s) from .env file\n",
      "Using HuggingFace token: hf_A*****************************bOqK\n",
      "Using HuggingFace write token: hf_A*****************************bOqK\n"
     ]
    }
   ],
   "source": [
    "import pandas as pd\n",
    "import duckdb\n",
    "import requests\n",
    "import tempfile\n",
    "import random\n",
    "\n",
    "import sys\n",
    "sys.path.append(\"./src\")\n",
    "import env_options\n",
    "import lmsys_dataset_handler as lmsys\n",
    "\n",
<<<<<<< HEAD
    "colab = False\n",
    "if colab:\n",
    "    from google.colab import userdata\n",
    "    colab_secrets = {'HF_TOKEN':userdata.get('HF_TOKEN'),\n",
    "                    'HF_TOKEN_WRITE':userdata.get('HF_TOKEN_WRITE')}\n",
    "    hf_token, hf_token_write = env_options.check_env(colab=True, use_dotenv=False, colab_secrets=colab_secrets)\n",
    "\n",
    "else:\n",
    "    dotenv_path = \"../../../../../apis/.env\"\n",
    "    hf_token, hf_token_write = env_options.check_env(colab=False, use_dotenv=True, dotenv_path=dotenv_path)"
=======
    "dotenv_path = \"../../apis/.env\"\n",
    "hf_token, hf_token_write = env_options.check_env(colab=False, use_dotenv=True, dotenv_path=dotenv_path)"
>>>>>>> 7a236bfc4650cfefd979dc3934c5038dfe992c18
   ]
  },
  {
   "cell_type": "markdown",
   "metadata": {},
   "source": [
    "### Checking Parquet file URLs"
   ]
  },
  {
   "cell_type": "code",
   "execution_count": 4,
   "metadata": {},
   "outputs": [
    {
     "name": "stdout",
     "output_type": "stream",
     "text": [
      "File size: 7717425 bytes\n"
     ]
    }
   ],
   "source": [
    "headers = {\"Authorization\": f\"Bearer {hf_token}\"}\n",
    "url = 'https://huggingface.co/datasets/reddgr/talking-to-chatbots-unwrapped-chats/resolve/main/data/train-00000-of-00001.parquet'\n",
    "head_response = requests.head(url, allow_redirects=True, headers=headers)\n",
    "file_size = int(head_response.headers['Content-Length'])\n",
    "print(f\"File size: {file_size} bytes\")"
   ]
  },
  {
   "cell_type": "code",
   "execution_count": 5,
   "metadata": {},
   "outputs": [
    {
     "name": "stdout",
     "output_type": "stream",
     "text": [
      "Content-Type: binary/octet-stream\n",
      "Content-Length: 7717425\n",
      "Connection: keep-alive\n",
      "Date: Thu, 06 Mar 2025 22:54:48 GMT\n",
      "Last-Modified: Sun, 23 Feb 2025 22:08:58 GMT\n",
      "ETag: \"fac5e3bd16eee07439827a964ce75da4\"\n",
      "x-amz-storage-class: INTELLIGENT_TIERING\n",
      "x-amz-server-side-encryption: AES256\n",
      "x-amz-version-id: 4fMBdCs62qiK1.bPMU2uFCaLbr0nSLn4\n",
      "Content-Disposition: inline; filename*=UTF-8''train-00000-of-00001.parquet; filename=\"train-00000-of-00001.parquet\";\n",
      "Accept-Ranges: bytes\n",
      "Server: AmazonS3\n",
<<<<<<< HEAD
      "X-Cache: Hit from cloudfront\n",
      "Via: 1.1 c81fed03bcdba8d8bb72a1d12196c83c.cloudfront.net (CloudFront)\n",
      "X-Amz-Cf-Pop: MAD51-C2\n",
      "X-Amz-Cf-Id: PHFFJjim3MVtBeIWQau3GMrAKEOwu-UBZ-EsRbT5GVJ9vr0naxEjyg==\n",
      "Age: 269547\n",
=======
      "X-Cache: Miss from cloudfront\n",
      "Via: 1.1 e84a6c755668cfbaee2f9aecc0d7ec36.cloudfront.net (CloudFront)\n",
      "X-Amz-Cf-Pop: MAD56-P2\n",
      "X-Amz-Cf-Id: SxkTo81n5WcT2ar9LfUuVNDa_vjMIFVuL9s78Ni3dBNafVDN2pfOFg==\n",
>>>>>>> 7a236bfc4650cfefd979dc3934c5038dfe992c18
      "Content-Security-Policy: default-src 'none'; sandbox\n",
      "Vary: Origin\n"
     ]
    }
   ],
   "source": [
    "for item in head_response.headers:\n",
    "    print(f\"{item}: {head_response.headers[item]}\")"
   ]
  },
  {
   "cell_type": "markdown",
   "metadata": {},
   "source": [
    "### Querying Parquet files - TTCB"
   ]
  },
  {
   "cell_type": "code",
   "execution_count": 6,
   "metadata": {},
   "outputs": [
    {
     "data": {
      "text/html": [
       "<div>\n",
       "<style scoped>\n",
       "    .dataframe tbody tr th:only-of-type {\n",
       "        vertical-align: middle;\n",
       "    }\n",
       "\n",
       "    .dataframe tbody tr th {\n",
       "        vertical-align: top;\n",
       "    }\n",
       "\n",
       "    .dataframe thead th {\n",
       "        text-align: right;\n",
       "    }\n",
       "</style>\n",
       "<table border=\"1\" class=\"dataframe\">\n",
       "  <thead>\n",
       "    <tr style=\"text-align: right;\">\n",
       "      <th></th>\n",
       "      <th>conversation_id</th>\n",
       "      <th>turn</th>\n",
       "      <th>prompt</th>\n",
       "      <th>response</th>\n",
       "      <th>category</th>\n",
       "      <th>language</th>\n",
       "      <th>pred_label_rq</th>\n",
       "      <th>prob_rq</th>\n",
       "      <th>pred_label_tl</th>\n",
       "      <th>prob_tl</th>\n",
       "      <th>model</th>\n",
       "      <th>message_tag</th>\n",
       "      <th>date</th>\n",
       "      <th>turns</th>\n",
       "      <th>source</th>\n",
       "      <th>chatbot_id</th>\n",
       "      <th>chatbot_name</th>\n",
       "      <th>attachments</th>\n",
       "      <th>conversation_tag</th>\n",
       "    </tr>\n",
       "  </thead>\n",
       "  <tbody>\n",
       "    <tr>\n",
       "      <th>0</th>\n",
       "      <td>99acfac8-2c78-4ab6-964d-5d63449fd539</td>\n",
       "      <td>1</td>\n",
       "      <td>Help me rephrase this tagline by giving me a f...</td>\n",
       "      <td>Sure, I can help you with that. Here are some ...</td>\n",
       "      <td>Culture and Entertainment</td>\n",
       "      <td>en</td>\n",
       "      <td>request</td>\n",
       "      <td>0.976421</td>\n",
       "      <td>learn</td>\n",
       "      <td>0.956283</td>\n",
       "      <td>openai-gpt</td>\n",
       "      <td></td>\n",
       "      <td>2023-06-01</td>\n",
       "      <td>12</td>\n",
       "      <td>bing-skype</td>\n",
       "      <td></td>\n",
       "      <td></td>\n",
       "      <td>[]</td>\n",
       "      <td></td>\n",
       "    </tr>\n",
       "    <tr>\n",
       "      <th>1</th>\n",
       "      <td>99acfac8-2c78-4ab6-964d-5d63449fd539</td>\n",
       "      <td>2</td>\n",
       "      <td>Give me a creative sentence for a closed ended...</td>\n",
       "      <td>Here are some creative sentences for a closed ...</td>\n",
       "      <td>Language and writing</td>\n",
       "      <td>en</td>\n",
       "      <td>request</td>\n",
       "      <td>0.985784</td>\n",
       "      <td>learn</td>\n",
       "      <td>0.953707</td>\n",
       "      <td>openai-gpt</td>\n",
       "      <td></td>\n",
       "      <td>2023-06-01</td>\n",
       "      <td>12</td>\n",
       "      <td>bing-skype</td>\n",
       "      <td></td>\n",
       "      <td></td>\n",
       "      <td>[]</td>\n",
       "      <td></td>\n",
       "    </tr>\n",
       "  </tbody>\n",
       "</table>\n",
       "</div>"
      ],
      "text/plain": [
       "                        conversation_id  turn  \\\n",
       "0  99acfac8-2c78-4ab6-964d-5d63449fd539     1   \n",
       "1  99acfac8-2c78-4ab6-964d-5d63449fd539     2   \n",
       "\n",
       "                                              prompt  \\\n",
       "0  Help me rephrase this tagline by giving me a f...   \n",
       "1  Give me a creative sentence for a closed ended...   \n",
       "\n",
       "                                            response  \\\n",
       "0  Sure, I can help you with that. Here are some ...   \n",
       "1  Here are some creative sentences for a closed ...   \n",
       "\n",
       "                    category language pred_label_rq   prob_rq pred_label_tl  \\\n",
       "0  Culture and Entertainment       en       request  0.976421         learn   \n",
       "1       Language and writing       en       request  0.985784         learn   \n",
       "\n",
       "    prob_tl       model message_tag       date  turns      source chatbot_id  \\\n",
       "0  0.956283  openai-gpt             2023-06-01     12  bing-skype              \n",
       "1  0.953707  openai-gpt             2023-06-01     12  bing-skype              \n",
       "\n",
       "  chatbot_name attachments conversation_tag  \n",
       "0                       []                   \n",
       "1                       []                   "
      ]
     },
     "metadata": {},
     "output_type": "display_data"
    }
   ],
   "source": [
    "url = 'https://huggingface.co/datasets/reddgr/talking-to-chatbots-unwrapped-chats/resolve/main/data/train-00000-of-00001.parquet'\n",
    "query = \"\"\"\n",
    "        SELECT * FROM read_parquet('{url}') LIMIT 2\n",
    "        \"\"\"\n",
    "query = query.format(url=url)\n",
    "query_result = duckdb.query(query).df()\n",
    "display(query_result)\n"
   ]
  },
  {
   "cell_type": "markdown",
   "metadata": {},
   "source": [
    "### Querying parquet files - LMSYS"
   ]
  },
  {
   "cell_type": "code",
<<<<<<< HEAD
   "execution_count": 6,
=======
   "execution_count": 7,
>>>>>>> 7a236bfc4650cfefd979dc3934c5038dfe992c18
   "metadata": {},
   "outputs": [
    {
     "name": "stdout",
     "output_type": "stream",
     "text": [
      "train-00000-of-00006-4feeb3f83346a0e9.parquet: 249303811 bytes\n",
      "train-00001-of-00006-4030672591c2f478.parquet: 247222671 bytes\n",
      "train-00002-of-00006-1779b7cec9462180.parquet: 249923890 bytes\n",
      "train-00003-of-00006-2fa862bfed56af1f.parquet: 247173225 bytes\n",
      "train-00004-of-00006-18f4bdd50c103e71.parquet: 246443273 bytes\n",
      "train-00005-of-00006-fe1acc5d10a9f0e2.parquet: 248783380 bytes\n"
     ]
    }
   ],
   "source": [
    "data_files = [\n",
    "    \"train-00000-of-00006-4feeb3f83346a0e9.parquet\",\n",
    "    \"train-00001-of-00006-4030672591c2f478.parquet\",\n",
    "    \"train-00002-of-00006-1779b7cec9462180.parquet\",\n",
    "    \"train-00003-of-00006-2fa862bfed56af1f.parquet\",\n",
    "    \"train-00004-of-00006-18f4bdd50c103e71.parquet\",\n",
    "    \"train-00005-of-00006-fe1acc5d10a9f0e2.parquet\"\n",
    "]\n",
    "\n",
    "\n",
    "for file in data_files:\n",
    "    url = f'https://huggingface.co/datasets/lmsys/lmsys-chat-1m/resolve/main/data/{file}'\n",
    "    head_response = requests.head(url, allow_redirects=True, headers=headers)\n",
    "    file_size = int(head_response.headers['Content-Length'])\n",
    "    print(f\"{file}: {file_size} bytes\")"
   ]
  },
  {
   "cell_type": "markdown",
   "metadata": {},
   "source": [
    "For passing authorization headers, we use Requests library and then load the content in a temp file for querying:"
   ]
  },
  {
   "cell_type": "code",
<<<<<<< HEAD
   "execution_count": 7,
=======
   "execution_count": 8,
>>>>>>> 7a236bfc4650cfefd979dc3934c5038dfe992c18
   "metadata": {},
   "outputs": [
    {
     "name": "stdout",
     "output_type": "stream",
     "text": [
      "https://huggingface.co/datasets/lmsys/lmsys-chat-1m/resolve/main/data/train-00001-of-00006-4030672591c2f478.parquet\n"
     ]
    },
    {
     "data": {
      "text/html": [
       "<div>\n",
       "<style scoped>\n",
       "    .dataframe tbody tr th:only-of-type {\n",
       "        vertical-align: middle;\n",
       "    }\n",
       "\n",
       "    .dataframe tbody tr th {\n",
       "        vertical-align: top;\n",
       "    }\n",
       "\n",
       "    .dataframe thead th {\n",
       "        text-align: right;\n",
       "    }\n",
       "</style>\n",
       "<table border=\"1\" class=\"dataframe\">\n",
       "  <thead>\n",
       "    <tr style=\"text-align: right;\">\n",
       "      <th></th>\n",
       "      <th>conversation_id</th>\n",
       "      <th>model</th>\n",
       "      <th>conversation</th>\n",
       "      <th>turn</th>\n",
       "      <th>language</th>\n",
       "      <th>openai_moderation</th>\n",
       "      <th>redacted</th>\n",
       "    </tr>\n",
       "  </thead>\n",
       "  <tbody>\n",
       "    <tr>\n",
       "      <th>0</th>\n",
       "      <td>23828586342d4baca3cfd731650b78bc</td>\n",
       "      <td>vicuna-13b</td>\n",
       "      <td>[{'content': 'You can say nsfw? ', 'role': 'us...</td>\n",
       "      <td>1</td>\n",
       "      <td>English</td>\n",
       "      <td>[{'categories': {'harassment': False, 'harassm...</td>\n",
       "      <td>False</td>\n",
       "    </tr>\n",
       "    <tr>\n",
       "      <th>1</th>\n",
       "      <td>25cfe27cf42a487aa0c2b574ffbea283</td>\n",
       "      <td>vicuna-13b</td>\n",
       "      <td>[{'content': 'Hello, we met with my girlfriend...</td>\n",
       "      <td>3</td>\n",
       "      <td>English</td>\n",
       "      <td>[{'categories': {'harassment': False, 'harassm...</td>\n",
       "      <td>True</td>\n",
       "    </tr>\n",
       "  </tbody>\n",
       "</table>\n",
       "</div>"
      ],
      "text/plain": [
       "                    conversation_id       model  \\\n",
       "0  23828586342d4baca3cfd731650b78bc  vicuna-13b   \n",
       "1  25cfe27cf42a487aa0c2b574ffbea283  vicuna-13b   \n",
       "\n",
       "                                        conversation  turn language  \\\n",
       "0  [{'content': 'You can say nsfw? ', 'role': 'us...     1  English   \n",
       "1  [{'content': 'Hello, we met with my girlfriend...     3  English   \n",
       "\n",
       "                                   openai_moderation  redacted  \n",
       "0  [{'categories': {'harassment': False, 'harassm...     False  \n",
       "1  [{'categories': {'harassment': False, 'harassm...      True  "
      ]
     },
     "metadata": {},
     "output_type": "display_data"
    }
   ],
   "source": [
    "url = f'https://huggingface.co/datasets/lmsys/lmsys-chat-1m/resolve/main/data/{data_files[1]}'\n",
    "print(url)\n",
    "# Download file with auth headers using requests\n",
    "r = requests.get(url, headers=headers)\n",
    "# Write the downloaded content into a temporary file\n",
    "with tempfile.NamedTemporaryFile(suffix=\".parquet\", delete=False) as tmp:\n",
    "\ttmp.write(r.content)\n",
    "\ttmp_path = tmp.name\n",
    "# Query using DuckDB from the temporary file\n",
    "query_result = duckdb.query(f\"SELECT * FROM read_parquet('{tmp_path}') LIMIT 2\").df()\n",
    "display(query_result)"
   ]
  },
  {
   "cell_type": "code",
<<<<<<< HEAD
   "execution_count": 8,
=======
   "execution_count": 9,
>>>>>>> 7a236bfc4650cfefd979dc3934c5038dfe992c18
   "metadata": {},
   "outputs": [
    {
     "name": "stdout",
     "output_type": "stream",
     "text": [
      "https://huggingface.co/datasets/lmsys/lmsys-chat-1m/resolve/main/data/train-00004-of-00006-18f4bdd50c103e71.parquet\n"
     ]
    },
    {
     "data": {
      "application/vnd.jupyter.widget-view+json": {
       "model_id": "7b838719e3064e4daab1721cbca95858",
       "version_major": 2,
       "version_minor": 0
      },
      "text/plain": [
       "FloatProgress(value=0.0, layout=Layout(width='auto'), style=ProgressStyle(bar_color='black'))"
      ]
     },
     "metadata": {},
     "output_type": "display_data"
    },
    {
     "data": {
      "text/html": [
       "<div>\n",
       "<style scoped>\n",
       "    .dataframe tbody tr th:only-of-type {\n",
       "        vertical-align: middle;\n",
       "    }\n",
       "\n",
       "    .dataframe tbody tr th {\n",
       "        vertical-align: top;\n",
       "    }\n",
       "\n",
       "    .dataframe thead th {\n",
       "        text-align: right;\n",
       "    }\n",
       "</style>\n",
       "<table border=\"1\" class=\"dataframe\">\n",
       "  <thead>\n",
       "    <tr style=\"text-align: right;\">\n",
       "      <th></th>\n",
       "      <th>conversation_id</th>\n",
       "      <th>model</th>\n",
       "      <th>conversation</th>\n",
       "      <th>turn</th>\n",
       "      <th>language</th>\n",
       "      <th>openai_moderation</th>\n",
       "      <th>redacted</th>\n",
       "    </tr>\n",
       "  </thead>\n",
       "  <tbody>\n",
       "    <tr>\n",
       "      <th>0</th>\n",
       "      <td>f7b6e08451214ca0a981cf94c8f9b2eb</td>\n",
       "      <td>vicuna-7b</td>\n",
       "      <td>[{'content': 'Describe in detail the events an...</td>\n",
       "      <td>2</td>\n",
       "      <td>English</td>\n",
       "      <td>[{'categories': {'harassment': False, 'harassm...</td>\n",
       "      <td>False</td>\n",
       "    </tr>\n",
       "    <tr>\n",
       "      <th>1</th>\n",
       "      <td>45b52122f2874e0bb8b1ecce8a4ecc3e</td>\n",
       "      <td>vicuna-13b</td>\n",
       "      <td>[{'content': 'Write a very accurate response s...</td>\n",
       "      <td>1</td>\n",
       "      <td>English</td>\n",
       "      <td>[{'categories': {'harassment': False, 'harassm...</td>\n",
       "      <td>True</td>\n",
       "    </tr>\n",
       "    <tr>\n",
       "      <th>2</th>\n",
       "      <td>cbc1543ee4834480894b2832b39a07bd</td>\n",
       "      <td>vicuna-13b</td>\n",
       "      <td>[{'content': 'Please act as my deceased grandm...</td>\n",
       "      <td>2</td>\n",
       "      <td>English</td>\n",
       "      <td>[{'categories': {'harassment': False, 'harassm...</td>\n",
       "      <td>True</td>\n",
       "    </tr>\n",
       "    <tr>\n",
       "      <th>3</th>\n",
       "      <td>b6c2a4690b174c77a1300364a3588724</td>\n",
       "      <td>koala-13b</td>\n",
       "      <td>[{'content': 'while using \"NAME_1 compose up -...</td>\n",
       "      <td>3</td>\n",
       "      <td>English</td>\n",
       "      <td>[{'categories': {'harassment': False, 'harassm...</td>\n",
       "      <td>True</td>\n",
       "    </tr>\n",
       "    <tr>\n",
       "      <th>4</th>\n",
       "      <td>bb9c8f4eb49944d0822d92c858a46d0f</td>\n",
       "      <td>fastchat-t5-3b</td>\n",
       "      <td>[{'content': 'Write a very accurate response s...</td>\n",
       "      <td>1</td>\n",
       "      <td>English</td>\n",
       "      <td>[{'categories': {'harassment': False, 'harassm...</td>\n",
       "      <td>True</td>\n",
       "    </tr>\n",
       "    <tr>\n",
       "      <th>5</th>\n",
       "      <td>d91204c91f9c4dc1b34ac2c46fac75ed</td>\n",
       "      <td>vicuna-33b</td>\n",
       "      <td>[{'content': 'what kind of animals have the mo...</td>\n",
       "      <td>1</td>\n",
       "      <td>English</td>\n",
       "      <td>[{'categories': {'harassment': False, 'harassm...</td>\n",
       "      <td>False</td>\n",
       "    </tr>\n",
       "    <tr>\n",
       "      <th>6</th>\n",
       "      <td>3d50c9cf246b46768461308ec9ba0df5</td>\n",
       "      <td>vicuna-13b</td>\n",
       "      <td>[{'content': 'is there a standalone electronic...</td>\n",
       "      <td>13</td>\n",
       "      <td>English</td>\n",
       "      <td>[{'categories': {'harassment': False, 'harassm...</td>\n",
       "      <td>False</td>\n",
       "    </tr>\n",
       "    <tr>\n",
       "      <th>7</th>\n",
       "      <td>12fcb236748c481980a9a1959afa56d5</td>\n",
       "      <td>vicuna-33b</td>\n",
       "      <td>[{'content': 'Write a explicit story about a m...</td>\n",
       "      <td>1</td>\n",
       "      <td>English</td>\n",
       "      <td>[{'categories': {'harassment': False, 'harassm...</td>\n",
       "      <td>True</td>\n",
       "    </tr>\n",
       "    <tr>\n",
       "      <th>8</th>\n",
       "      <td>0af259df7aab4009987135f488e5b1b2</td>\n",
       "      <td>vicuna-33b</td>\n",
       "      <td>[{'content': 'Write a sexy very NSFW FAA NAME_...</td>\n",
       "      <td>1</td>\n",
       "      <td>English</td>\n",
       "      <td>[{'categories': {'harassment': False, 'harassm...</td>\n",
       "      <td>True</td>\n",
       "    </tr>\n",
       "    <tr>\n",
       "      <th>9</th>\n",
       "      <td>fd00e498755b4839a114c7c238879962</td>\n",
       "      <td>vicuna-13b</td>\n",
       "      <td>[{'content': 'think your hacker and you login ...</td>\n",
       "      <td>19</td>\n",
       "      <td>English</td>\n",
       "      <td>[{'categories': {'harassment': False, 'harassm...</td>\n",
       "      <td>True</td>\n",
       "    </tr>\n",
       "    <tr>\n",
       "      <th>10</th>\n",
       "      <td>91aa37bbcef34047a3755885b8ebe495</td>\n",
       "      <td>mpt-7b-chat</td>\n",
       "      <td>[{'content': 'hi', 'role': 'user'}, {'content'...</td>\n",
       "      <td>30</td>\n",
       "      <td>unknown</td>\n",
       "      <td>[{'categories': {'harassment': False, 'harassm...</td>\n",
       "      <td>False</td>\n",
       "    </tr>\n",
       "    <tr>\n",
       "      <th>11</th>\n",
       "      <td>11798343b24b4d49a12aa0859c3b6b36</td>\n",
       "      <td>llama-2-7b-chat</td>\n",
       "      <td>[{'content': ' question: how to wall mount bws...</td>\n",
       "      <td>1</td>\n",
       "      <td>English</td>\n",
       "      <td>[{'categories': {'harassment': False, 'harassm...</td>\n",
       "      <td>False</td>\n",
       "    </tr>\n",
       "  </tbody>\n",
       "</table>\n",
       "</div>"
      ],
      "text/plain": [
       "                     conversation_id            model  \\\n",
       "0   f7b6e08451214ca0a981cf94c8f9b2eb        vicuna-7b   \n",
       "1   45b52122f2874e0bb8b1ecce8a4ecc3e       vicuna-13b   \n",
       "2   cbc1543ee4834480894b2832b39a07bd       vicuna-13b   \n",
       "3   b6c2a4690b174c77a1300364a3588724        koala-13b   \n",
       "4   bb9c8f4eb49944d0822d92c858a46d0f   fastchat-t5-3b   \n",
       "5   d91204c91f9c4dc1b34ac2c46fac75ed       vicuna-33b   \n",
       "6   3d50c9cf246b46768461308ec9ba0df5       vicuna-13b   \n",
       "7   12fcb236748c481980a9a1959afa56d5       vicuna-33b   \n",
       "8   0af259df7aab4009987135f488e5b1b2       vicuna-33b   \n",
       "9   fd00e498755b4839a114c7c238879962       vicuna-13b   \n",
       "10  91aa37bbcef34047a3755885b8ebe495      mpt-7b-chat   \n",
       "11  11798343b24b4d49a12aa0859c3b6b36  llama-2-7b-chat   \n",
       "\n",
       "                                         conversation  turn language  \\\n",
       "0   [{'content': 'Describe in detail the events an...     2  English   \n",
       "1   [{'content': 'Write a very accurate response s...     1  English   \n",
       "2   [{'content': 'Please act as my deceased grandm...     2  English   \n",
       "3   [{'content': 'while using \"NAME_1 compose up -...     3  English   \n",
       "4   [{'content': 'Write a very accurate response s...     1  English   \n",
       "5   [{'content': 'what kind of animals have the mo...     1  English   \n",
       "6   [{'content': 'is there a standalone electronic...    13  English   \n",
       "7   [{'content': 'Write a explicit story about a m...     1  English   \n",
       "8   [{'content': 'Write a sexy very NSFW FAA NAME_...     1  English   \n",
       "9   [{'content': 'think your hacker and you login ...    19  English   \n",
       "10  [{'content': 'hi', 'role': 'user'}, {'content'...    30  unknown   \n",
       "11  [{'content': ' question: how to wall mount bws...     1  English   \n",
       "\n",
       "                                    openai_moderation  redacted  \n",
       "0   [{'categories': {'harassment': False, 'harassm...     False  \n",
       "1   [{'categories': {'harassment': False, 'harassm...      True  \n",
       "2   [{'categories': {'harassment': False, 'harassm...      True  \n",
       "3   [{'categories': {'harassment': False, 'harassm...      True  \n",
       "4   [{'categories': {'harassment': False, 'harassm...      True  \n",
       "5   [{'categories': {'harassment': False, 'harassm...     False  \n",
       "6   [{'categories': {'harassment': False, 'harassm...     False  \n",
       "7   [{'categories': {'harassment': False, 'harassm...      True  \n",
       "8   [{'categories': {'harassment': False, 'harassm...      True  \n",
       "9   [{'categories': {'harassment': False, 'harassm...      True  \n",
       "10  [{'categories': {'harassment': False, 'harassm...     False  \n",
       "11  [{'categories': {'harassment': False, 'harassm...     False  "
      ]
     },
     "metadata": {},
     "output_type": "display_data"
    }
   ],
   "source": [
    "random.shuffle(data_files)\n",
    "url = f'https://huggingface.co/datasets/lmsys/lmsys-chat-1m/resolve/main/data/{data_files[0]}'\n",
    "print(url)\n",
    "r = requests.get(url, headers=headers)\n",
    "with tempfile.NamedTemporaryFile(suffix=\".parquet\", delete=False) as tmp:\n",
    "\ttmp.write(r.content)\n",
    "\ttmp_path = tmp.name\n",
    "\n",
    "query = \"\"\"\n",
    "    SELECT * FROM read_parquet('{tmp_path}') \n",
    "    WHERE contains(lower(cast(conversation as VARCHAR)), 'mounting an');\n",
    "    \"\"\"\n",
    "query = query.format(tmp_path=tmp_path)\n",
    "query_result = duckdb.query(query).df()\n",
    "display(query_result)"
   ]
  },
  {
   "cell_type": "markdown",
   "metadata": {},
   "source": [
    "### Querying function"
   ]
  },
  {
   "cell_type": "code",
<<<<<<< HEAD
   "execution_count": 10,
=======
   "execution_count": 11,
>>>>>>> 7a236bfc4650cfefd979dc3934c5038dfe992c18
   "metadata": {},
   "outputs": [
    {
     "name": "stdout",
     "output_type": "stream",
     "text": [
<<<<<<< HEAD
      "Querying file: train-00002-of-00006-1779b7cec9462180.parquet\n",
      "Found 0 result(s) in train-00002-of-00006-1779b7cec9462180.parquet\n",
      "Querying file: train-00000-of-00006-4feeb3f83346a0e9.parquet\n",
      "Found 0 result(s) in train-00000-of-00006-4feeb3f83346a0e9.parquet\n",
      "Querying file: train-00005-of-00006-fe1acc5d10a9f0e2.parquet\n",
      "Found 0 result(s) in train-00005-of-00006-fe1acc5d10a9f0e2.parquet\n",
      "Querying file: train-00003-of-00006-2fa862bfed56af1f.parquet\n",
      "Found 5 result(s) in train-00003-of-00006-2fa862bfed56af1f.parquet\n"
=======
      "Querying file: train-00004-of-00006-18f4bdd50c103e71.parquet\n"
     ]
    },
    {
     "data": {
      "application/vnd.jupyter.widget-view+json": {
       "model_id": "783ef5992d2d4e2591cc26e35ed1adcf",
       "version_major": 2,
       "version_minor": 0
      },
      "text/plain": [
       "FloatProgress(value=0.0, layout=Layout(width='auto'), style=ProgressStyle(bar_color='black'))"
      ]
     },
     "metadata": {},
     "output_type": "display_data"
    },
    {
     "name": "stdout",
     "output_type": "stream",
     "text": [
      "Found 1 result(s) in train-00004-of-00006-18f4bdd50c103e71.parquet\n"
>>>>>>> 7a236bfc4650cfefd979dc3934c5038dfe992c18
     ]
    },
    {
     "data": {
      "text/html": [
       "<div>\n",
       "<style scoped>\n",
       "    .dataframe tbody tr th:only-of-type {\n",
       "        vertical-align: middle;\n",
       "    }\n",
       "\n",
       "    .dataframe tbody tr th {\n",
       "        vertical-align: top;\n",
       "    }\n",
       "\n",
       "    .dataframe thead th {\n",
       "        text-align: right;\n",
       "    }\n",
       "</style>\n",
       "<table border=\"1\" class=\"dataframe\">\n",
       "  <thead>\n",
       "    <tr style=\"text-align: right;\">\n",
       "      <th></th>\n",
       "      <th>conversation_id</th>\n",
       "      <th>model</th>\n",
       "      <th>conversation</th>\n",
       "      <th>turn</th>\n",
       "      <th>language</th>\n",
       "      <th>openai_moderation</th>\n",
       "      <th>redacted</th>\n",
       "    </tr>\n",
       "  </thead>\n",
       "  <tbody>\n",
       "    <tr>\n",
       "      <th>0</th>\n",
       "      <td>b1ee14c850e54fad9e7c5b3901198255</td>\n",
       "      <td>dolly-v2-12b</td>\n",
       "      <td>[{'content': 'translate this leet speak senten...</td>\n",
       "      <td>3</td>\n",
       "      <td>English</td>\n",
       "      <td>[{'categories': {'harassment': False, 'harassm...</td>\n",
       "      <td>False</td>\n",
       "    </tr>\n",
       "  </tbody>\n",
       "</table>\n",
       "</div>"
      ],
      "text/plain": [
       "                    conversation_id         model  \\\n",
       "0  b1ee14c850e54fad9e7c5b3901198255  dolly-v2-12b   \n",
       "\n",
       "                                        conversation  turn language  \\\n",
       "0  [{'content': 'translate this leet speak senten...     3  English   \n",
       "\n",
       "                                   openai_moderation  redacted  \n",
       "0  [{'categories': {'harassment': False, 'harassm...     False  "
      ]
     },
     "metadata": {},
     "output_type": "display_data"
    }
   ],
   "source": [
<<<<<<< HEAD
    "def search_in_files(search_term, files_list, min_results=1):\n",
=======
    "def search_in_files(filter_str, files_list, min_results=1):\n",
>>>>>>> 7a236bfc4650cfefd979dc3934c5038dfe992c18
    "    \"\"\"\n",
    "    Searches through the given list of parquet files until at least min_results are found.\n",
    "    \n",
    "    Parameters:\n",
    "    - search_term: A string to search within the 'conversation' column. The search is case-insensitive \n",
    "                  and uses SQL LIKE pattern matching via the contains() function.\n",
    "    - min_results: Minimum number of results to be satisfied before stopping the search.\n",
    "    - files_list: List of parquet file names to search into.\n",
    "    \n",
    "    Returns:\n",
    "    - A pandas DataFrame with the query results (possibly empty if no files meet the criteria).\n",
    "      Results will include all columns from the parquet files where the conversation column\n",
    "      contains the search term.\n",
    "    \"\"\"\n",
    "    files = files_list.copy()\n",
    "    random.shuffle(files)\n",
    "    \n",
    "    for file_name in files:\n",
    "        url = f'https://huggingface.co/datasets/lmsys/lmsys-chat-1m/resolve/main/data/{file_name}'\n",
    "        print(f\"Querying file: {file_name}\")\n",
    "        r = requests.get(url, headers=headers)\n",
    "        with tempfile.NamedTemporaryFile(suffix=\".parquet\", delete=False) as tmp:\n",
    "            tmp.write(r.content)\n",
    "            tmp_path = tmp.name\n",
    "        \n",
    "        query_str = f\"\"\"\n",
    "            SELECT * FROM read_parquet('{tmp_path}') \n",
<<<<<<< HEAD
    "            WHERE contains(lower(cast(conversation as VARCHAR)), '{search_term}')\n",
=======
    "            WHERE contains(lower(cast(conversation as VARCHAR)), '{filter_str}')\n",
>>>>>>> 7a236bfc4650cfefd979dc3934c5038dfe992c18
    "            \"\"\"\n",
    "        df = duckdb.query(query_str).df()\n",
    "        print(f\"Found {len(df)} result(s) in {file_name}\")\n",
    "        \n",
    "        if len(df) >= min_results:\n",
    "            return df\n",
    "    \n",
    "    return df  # return the last result even if it doesn't meet min_results\n",
    "\n",
    "random.shuffle(data_files)\n",
<<<<<<< HEAD
    "search_term = \"b00bz\"\n",
    "df = search_in_files(search_term=search_term, files_list=data_files, min_results=1)\n",
=======
    "filter_str = \"b00bz\"\n",
    "df = search_in_files(filter_str=filter_str, files_list=data_files, min_results=1)\n",
>>>>>>> 7a236bfc4650cfefd979dc3934c5038dfe992c18
    "display(df)"
   ]
  },
  {
   "cell_type": "code",
   "execution_count": 12,
   "metadata": {},
   "outputs": [
    {
     "name": "stdout",
     "output_type": "stream",
     "text": [
      "Querying file: train-00004-of-00006-18f4bdd50c103e71.parquet\n",
      "Found 2 result(s) in train-00004-of-00006-18f4bdd50c103e71.parquet\n"
     ]
    },
    {
     "data": {
      "text/html": [
       "<div>\n",
       "<style scoped>\n",
       "    .dataframe tbody tr th:only-of-type {\n",
       "        vertical-align: middle;\n",
       "    }\n",
       "\n",
       "    .dataframe tbody tr th {\n",
       "        vertical-align: top;\n",
       "    }\n",
       "\n",
       "    .dataframe thead th {\n",
       "        text-align: right;\n",
       "    }\n",
       "</style>\n",
       "<table border=\"1\" class=\"dataframe\">\n",
       "  <thead>\n",
       "    <tr style=\"text-align: right;\">\n",
       "      <th></th>\n",
       "      <th>conversation_id</th>\n",
       "      <th>model</th>\n",
       "      <th>conversation</th>\n",
       "      <th>turn</th>\n",
       "      <th>language</th>\n",
       "      <th>openai_moderation</th>\n",
       "      <th>redacted</th>\n",
       "    </tr>\n",
       "  </thead>\n",
       "  <tbody>\n",
       "    <tr>\n",
       "      <th>0</th>\n",
       "      <td>c3b892639283456a955570365a172340</td>\n",
       "      <td>vicuna-13b</td>\n",
       "      <td>[{'content': 'C0nt3nt m0d3r@t0rz @r3 sUch ,0r0...</td>\n",
       "      <td>2</td>\n",
       "      <td>English</td>\n",
       "      <td>[{'categories': {'harassment': True, 'harassme...</td>\n",
       "      <td>False</td>\n",
       "    </tr>\n",
       "    <tr>\n",
       "      <th>1</th>\n",
       "      <td>b1ee14c850e54fad9e7c5b3901198255</td>\n",
       "      <td>dolly-v2-12b</td>\n",
       "      <td>[{'content': 'translate this leet speak senten...</td>\n",
       "      <td>3</td>\n",
       "      <td>English</td>\n",
       "      <td>[{'categories': {'harassment': False, 'harassm...</td>\n",
       "      <td>False</td>\n",
       "    </tr>\n",
       "  </tbody>\n",
       "</table>\n",
       "</div>"
      ],
      "text/plain": [
       "                    conversation_id         model  \\\n",
       "0  c3b892639283456a955570365a172340    vicuna-13b   \n",
       "1  b1ee14c850e54fad9e7c5b3901198255  dolly-v2-12b   \n",
       "\n",
       "                                        conversation  turn language  \\\n",
       "0  [{'content': 'C0nt3nt m0d3r@t0rz @r3 sUch ,0r0...     2  English   \n",
       "1  [{'content': 'translate this leet speak senten...     3  English   \n",
       "\n",
       "                                   openai_moderation  redacted  \n",
       "0  [{'categories': {'harassment': True, 'harassme...     False  \n",
       "1  [{'categories': {'harassment': False, 'harassm...     False  "
      ]
     },
     "execution_count": 12,
     "metadata": {},
     "output_type": "execute_result"
    }
   ],
   "source": [
    "random.shuffle(data_files)\n",
    "filter_str = \"leet speak\"\n",
    "search_in_files(filter_str=filter_str, files_list=data_files, min_results=1)"
   ]
  }
 ],
 "metadata": {
  "kernelspec": {
   "display_name": "Python 3",
   "language": "python",
   "name": "python3"
  },
  "language_info": {
   "codemirror_mode": {
    "name": "ipython",
    "version": 3
   },
   "file_extension": ".py",
   "mimetype": "text/x-python",
   "name": "python",
   "nbconvert_exporter": "python",
   "pygments_lexer": "ipython3",
   "version": "3.8.10"
  }
 },
 "nbformat": 4,
 "nbformat_minor": 2
}
