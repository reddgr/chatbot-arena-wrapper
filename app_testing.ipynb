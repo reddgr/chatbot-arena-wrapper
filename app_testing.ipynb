{
 "cells": [
  {
   "cell_type": "code",
   "execution_count": null,
   "metadata": {},
   "outputs": [
    {
     "name": "stdout",
     "output_type": "stream",
     "text": [
      "\u001b[0m\n",
      "\u001b[34m\u001b[1m  You can now view your Streamlit app in your browser.\u001b[0m\n",
      "\u001b[0m\n",
      "\u001b[34m  Local URL: \u001b[0m\u001b[1mhttp://localhost:8501\u001b[0m\n",
      "\u001b[34m  Network URL: \u001b[0m\u001b[1mhttp://192.168.1.54:8501\u001b[0m\n",
      "\u001b[0m\n",
      "Python version: 3.8.10 (default, Feb  4 2025, 15:02:54) \n",
      "[GCC 9.4.0]\n",
      "PyTorch version: 2.2.2+cu121\n",
      "Transformers version: 4.44.2\n",
      "No CUDA device available\n",
      "Retrieved HuggingFace token(s) from .env file\n",
      "Using HuggingFace token: hf_A*****************************bOqK\n",
      "Using HuggingFace write token: hf_A*****************************bOqK\n",
      "\n",
      "Parquet URLs:\n",
      "https://huggingface.co/datasets/lmsys/lmsys-chat-1m/resolve/refs%2Fconvert%2Fparquet/default/train/0000.parquet\n",
      "0000.parquet: 249303811 bytes\n",
      "https://huggingface.co/datasets/lmsys/lmsys-chat-1m/resolve/refs%2Fconvert%2Fparquet/default/train/0001.parquet\n",
      "0001.parquet: 247222671 bytes\n",
      "https://huggingface.co/datasets/lmsys/lmsys-chat-1m/resolve/refs%2Fconvert%2Fparquet/default/train/0002.parquet\n",
      "0002.parquet: 249923890 bytes\n",
      "https://huggingface.co/datasets/lmsys/lmsys-chat-1m/resolve/refs%2Fconvert%2Fparquet/default/train/0003.parquet\n",
      "0003.parquet: 247173225 bytes\n",
      "https://huggingface.co/datasets/lmsys/lmsys-chat-1m/resolve/refs%2Fconvert%2Fparquet/default/train/0004.parquet\n",
      "0004.parquet: 246443273 bytes\n",
      "https://huggingface.co/datasets/lmsys/lmsys-chat-1m/resolve/refs%2Fconvert%2Fparquet/default/train/0005.parquet\n",
      "0005.parquet: 248783380 bytes\n"
     ]
    }
   ],
   "source": [
    "!streamlit run app.py"
   ]
  }
 ],
 "metadata": {
  "kernelspec": {
   "display_name": "Python 3",
   "language": "python",
   "name": "python3"
  },
  "language_info": {
   "codemirror_mode": {
    "name": "ipython",
    "version": 3
   },
   "file_extension": ".py",
   "mimetype": "text/x-python",
   "name": "python",
   "nbconvert_exporter": "python",
   "pygments_lexer": "ipython3",
   "version": "3.8.10"
  }
 },
 "nbformat": 4,
 "nbformat_minor": 2
}
